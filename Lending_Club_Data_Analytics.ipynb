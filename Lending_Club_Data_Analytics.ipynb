{
 "cells": [
  {
   "cell_type": "markdown",
   "id": "8fcaed34",
   "metadata": {},
   "source": [
    "# Lending Club Data Analytics"
   ]
  },
  {
   "cell_type": "markdown",
   "id": "6641f1cc",
   "metadata": {},
   "source": [
    "### Importing the libraries"
   ]
  },
  {
   "cell_type": "code",
   "execution_count": 1,
   "id": "b565f8f3",
   "metadata": {},
   "outputs": [],
   "source": [
    "import numpy as np\n",
    "import pandas as pd\n",
    "import matplotlib.pyplot as plt\n",
    "import seaborn as sns \n",
    "import gc \n",
    "import time"
   ]
  },
  {
   "cell_type": "markdown",
   "id": "3b438b33",
   "metadata": {},
   "source": [
    "## Setting display parameters"
   ]
  },
  {
   "cell_type": "code",
   "execution_count": null,
   "id": "5c374da3",
   "metadata": {},
   "outputs": [],
   "source": [
    "pd.set_option(\"display.max_columns\",150)\n",
    "pd.set_option(\"display.max_rows\",15)\n",
    "pd.set_option(\"display.max_colwidth\",300)\n",
    "pd.set_option('display.float_format', lambda x: '%.2f' % x)"
   ]
  },
  {
   "cell_type": "markdown",
   "id": "e6e661d7",
   "metadata": {},
   "source": [
    "## Loading the Data"
   ]
  },
  {
   "cell_type": "markdown",
   "id": "f2e87f31",
   "metadata": {},
   "source": [
    "We have two files that needs to be imported into the jupyternotebook for analysis. "
   ]
  },
  {
   "cell_type": "code",
   "execution_count": 2,
   "id": "b1aa1f3c",
   "metadata": {},
   "outputs": [
    {
     "name": "stdout",
     "output_type": "stream",
     "text": [
      "31.485899209976196 seconds\n"
     ]
    }
   ],
   "source": [
    "file_1 = \"C://Users//Piyush//Desktop//Language Learning//Project_2_Lending_Club_Loan//Lending_Club_Loan_data_analytics//Lending_Club_Loan_Data.csv\"\n",
    "start_time=time.time()\n",
    "dataset_loan = pd.read_csv(file_1,engine =\"c\",low_memory=False,nrows=1000000)\n",
    "print(\"%s seconds\" %(time.time()-start_time))"
   ]
  },
  {
   "cell_type": "code",
   "execution_count": null,
   "id": "e14d5ddb",
   "metadata": {},
   "outputs": [],
   "source": [
    "file_2 = \"C://Users//Piyush//Desktop//Language Learning//Project_2_Lending_Club_Loan//Lending_Club_Data_Analysis//LCDataDictionary.xlsx\"\n",
    "dataset_meta_desc = pd.read_excel(file_2,nrows=151,usecols=[0,1])"
   ]
  },
  {
   "cell_type": "code",
   "execution_count": null,
   "id": "3a741430",
   "metadata": {},
   "outputs": [],
   "source": [
    "dataset_meta_desc"
   ]
  },
  {
   "cell_type": "markdown",
   "id": "38bcacc1",
   "metadata": {},
   "source": [
    "DataFrame \"dataset_meta_desc\" has descriptions regarding the columns that are present in the Dataframe dataset_loan. This will help us to know what does a particular columns does. "
   ]
  },
  {
   "cell_type": "code",
   "execution_count": null,
   "id": "e336e1ac",
   "metadata": {},
   "outputs": [],
   "source": [
    "dataset_loan.head(5)"
   ]
  },
  {
   "cell_type": "code",
   "execution_count": null,
   "id": "8ea8d5e2",
   "metadata": {
    "scrolled": true
   },
   "outputs": [],
   "source": [
    "dataset_loan.info(memory_usage=\"deep\")"
   ]
  },
  {
   "cell_type": "code",
   "execution_count": null,
   "id": "1900fc32",
   "metadata": {},
   "outputs": [],
   "source": [
    "dataset_loan.describe()"
   ]
  },
  {
   "cell_type": "markdown",
   "id": "561c92f1",
   "metadata": {},
   "source": [
    "## Data Cleaning"
   ]
  },
  {
   "cell_type": "markdown",
   "id": "c3b267f1",
   "metadata": {},
   "source": [
    "In this section we will be performing cleaning and transformation operations on the dataset to make the data clean and easier to handle. "
   ]
  },
  {
   "cell_type": "code",
   "execution_count": null,
   "id": "7d7e7739",
   "metadata": {},
   "outputs": [],
   "source": [
    "dataset_loan.isnull().sum()"
   ]
  },
  {
   "cell_type": "markdown",
   "id": "c7ff4b52",
   "metadata": {},
   "source": [
    "As we have more than 100 columns in the dataframe dataset_loan it's very difficult to check one by one the number of null_values and evaluate which columns are necessary for our data analysis of Lending Club. Hence will be making a new dataframe which contains these information and will be know as dataset_meta along with the descriptive information about the columns. "
   ]
  },
  {
   "cell_type": "code",
   "execution_count": null,
   "id": "4379423e",
   "metadata": {},
   "outputs": [],
   "source": [
    "# making a dataset_meta function\n",
    "def meta_function(value):\n",
    "    "
   ]
  },
  {
   "cell_type": "code",
   "execution_count": 8,
   "id": "d84da0ba",
   "metadata": {},
   "outputs": [
    {
     "name": "stdout",
     "output_type": "stream",
     "text": [
      "11.210195302963257 seconds\n"
     ]
    }
   ],
   "source": [
    "dataset_meta = pd.DataFrame(columns=[\"Column_Name\",\"NaN_Values\",\"NaN_Value_Percentage\",\"Non_NaN_Values\",\"Unique_Values\",\"Dtype\"])\n",
    "l = len(dataset_loan)\n",
    "start_time=time.time()\n",
    "for i in dataset_loan.columns:\n",
    "    n=dataset_loan[i].isnull().sum()\n",
    "    dataset_meta.loc[len(dataset_meta),:]=[i,\n",
    "          n,\n",
    "          n/l*100,\n",
    "          dataset_loan[i].notnull().sum(),\n",
    "          dataset_loan[i].nunique(),\n",
    "          dataset_loan[i].dtypes]\n",
    "\n",
    "\n",
    "print(\"%s seconds\" %(time.time() - start_time))"
   ]
  },
  {
   "cell_type": "code",
   "execution_count": null,
   "id": "8b01f452",
   "metadata": {},
   "outputs": [],
   "source": [
    "print(\"hello\")"
   ]
  },
  {
   "cell_type": "code",
   "execution_count": null,
   "id": "71ca0f7a",
   "metadata": {},
   "outputs": [],
   "source": [
    "dataset_loan"
   ]
  }
 ],
 "metadata": {
  "kernelspec": {
   "display_name": "Python 3",
   "language": "python",
   "name": "python3"
  },
  "language_info": {
   "codemirror_mode": {
    "name": "ipython",
    "version": 3
   },
   "file_extension": ".py",
   "mimetype": "text/x-python",
   "name": "python",
   "nbconvert_exporter": "python",
   "pygments_lexer": "ipython3",
   "version": "3.8.8"
  }
 },
 "nbformat": 4,
 "nbformat_minor": 5
}
