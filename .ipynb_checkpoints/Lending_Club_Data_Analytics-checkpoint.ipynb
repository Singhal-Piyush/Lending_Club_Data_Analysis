{
 "cells": [
  {
   "cell_type": "markdown",
   "id": "8fcaed34",
   "metadata": {},
   "source": [
    "# Lending Club Data Analytics"
   ]
  },
  {
   "cell_type": "markdown",
   "id": "6641f1cc",
   "metadata": {},
   "source": [
    "### Importing the libraries"
   ]
  },
  {
   "cell_type": "code",
   "execution_count": 2,
   "id": "b565f8f3",
   "metadata": {},
   "outputs": [],
   "source": [
    "import numpy as np\n",
    "import pandas as pd\n",
    "import matplotlib.pyplot as plt\n",
    "import seaborn as sns \n",
    "import gc \n",
    "import time"
   ]
  },
  {
   "cell_type": "markdown",
   "id": "3b438b33",
   "metadata": {},
   "source": [
    "## Setting display parameters"
   ]
  },
  {
   "cell_type": "code",
   "execution_count": 3,
   "id": "5c374da3",
   "metadata": {},
   "outputs": [],
   "source": [
    "pd.set_option(\"display.max_columns\",150)\n",
    "pd.set_option(\"display.max_rows\",150)\n",
    "pd.set_option(\"display.max_colwidth\",300)\n",
    "pd.set_option('display.float_format', lambda x: '%.2f' % x)\n"
   ]
  },
  {
   "cell_type": "markdown",
   "id": "e6e661d7",
   "metadata": {},
   "source": [
    "## Loading the Data"
   ]
  },
  {
   "cell_type": "code",
   "execution_count": null,
   "id": "b1aa1f3c",
   "metadata": {},
   "outputs": [],
   "source": [
    "dataset_loan = pd.read_csv(\"/content/drive/MyDrive/loan.csv\",engine =\"c\",low_memory=False)"
   ]
  }
 ],
 "metadata": {
  "kernelspec": {
   "display_name": "Python 3",
   "language": "python",
   "name": "python3"
  },
  "language_info": {
   "codemirror_mode": {
    "name": "ipython",
    "version": 3
   },
   "file_extension": ".py",
   "mimetype": "text/x-python",
   "name": "python",
   "nbconvert_exporter": "python",
   "pygments_lexer": "ipython3",
   "version": "3.8.8"
  }
 },
 "nbformat": 4,
 "nbformat_minor": 5
}
